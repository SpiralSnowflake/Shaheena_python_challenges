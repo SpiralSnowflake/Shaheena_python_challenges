{
 "cells": [
  {
   "cell_type": "markdown",
   "id": "37ccc5d5",
   "metadata": {},
   "source": [
    "Challenge: Is It a Palindrome?\n",
    "Problem\n",
    "1. Write a function that checks whether a given string is a palindrome — a word or phrase that reads the same backward as forward (ignoring capitalization, spaces, and punctuation).\n",
    "our Task\n",
    "Define a function called is_palindrome that accepts a single string.\n",
    "Return True if the string is a palindrome, and False otherwise.\n",
    "Normalize the string by:\n",
    "Converting it to lowercase\n",
    "Removing spaces (and optionally punctuation)\n",
    "Reverse the normalized string and compare it to the original normalized version.\n",
    "Concepts Tested\n",
    "String normalization\n",
    "Comparison logic\n",
    "Function design and return values\n",
    "2. Optional: working with Python's re (regular expression) module for bonus cleanup\n",
    "Stretch Ideas\n",
    "\n",
    "3. Use regular expressions to remove all non-alphanumeric characters\n",
    "4. Adapt the function to check if a number is a palindrome\n",
    "5. Return a message instead of a Boolean (e.g., \"Yes, it's a palindrome!\")\n",
    "6. Make the function case-insensitive without altering the original input"
   ]
  },
  {
   "cell_type": "code",
   "execution_count": null,
   "id": "99098e2e",
   "metadata": {},
   "outputs": [
    {
     "name": "stdout",
     "output_type": "stream",
     "text": [
      "True\n",
      "False\n",
      "True\n",
      "True\n"
     ]
    }
   ],
   "source": [
    "# Function for checking palindrome \n",
    "import string\n",
    "def is_palindrome(string_check):\n",
    "    rev_string = \"\"\n",
    "    string1 = string_check.lower().strip(string.punctuation).replace(\" \", \"\") #remove punctuation from string\n",
    "    #print(string1)\n",
    "    for char in string1:\n",
    "        rev_string = char + rev_string\n",
    "    #print(rev_string)\n",
    "    if rev_string == string1:\n",
    "        return(True)\n",
    "    else:\n",
    "        return(False)\n",
    "         \n",
    "#string = input(\"Enter a string to check for palindrome : \")\n",
    "print(is_palindrome(\"racecar\"))\n",
    "print(is_palindrome(\"hello\") )\n",
    "print(is_palindrome(\"A man a plan a canal Panama\"))\n",
    "print(is_palindrome(\"Lonely Tylenol\"))"
   ]
  },
  {
   "cell_type": "code",
   "execution_count": 2,
   "id": "b33d7846",
   "metadata": {},
   "outputs": [
    {
     "name": "stdout",
     "output_type": "stream",
     "text": [
      "True\n",
      "False\n",
      "True\n",
      "True\n"
     ]
    }
   ],
   "source": [
    "#working with Python's re (regular expression) module for bonus cleanup\n",
    "import re\n",
    "def is_palindrome(string_check):\n",
    "    rev_string = \"\"\n",
    "    string1 = re.sub(r'[^a-zA-Z0-9]', '', string_check.lower()) #replaces all occurrences(^non a-zA-Z0-9 alphanumeric ) of the specified pattern with a new string\n",
    "    for char in string1:\n",
    "        rev_string = char + rev_string\n",
    "    #print(rev_string)\n",
    "    if rev_string == string1:\n",
    "        return(True)\n",
    "    else:\n",
    "        return(False)\n",
    "         \n",
    "#string = input(\"Enter a string to check for palindrome : \")\n",
    "print(is_palindrome(\"racecar\"))\n",
    "print(is_palindrome(\"hello\") )\n",
    "print(is_palindrome(\"A man a plan a canal Panama\"))\n",
    "print(is_palindrome(\"Lonely Tylenol\"))"
   ]
  },
  {
   "cell_type": "code",
   "execution_count": 24,
   "id": "f8a9a0e9",
   "metadata": {},
   "outputs": [
    {
     "name": "stdout",
     "output_type": "stream",
     "text": [
      "HelloWorld123Python\n"
     ]
    }
   ],
   "source": [
    "#Use regular expressions to remove all non-alphanumeric characters\n",
    "import re\n",
    "string1 = \"Hello!!!! World!!!!! 123 @Python$<>?/.....+&&****@@#$\"\n",
    "string2 = re.sub(r'[^a-zA-Z0-9]', '', string1)\n",
    "print(string2)"
   ]
  },
  {
   "cell_type": "code",
   "execution_count": 4,
   "id": "73fc12c0",
   "metadata": {},
   "outputs": [
    {
     "name": "stdout",
     "output_type": "stream",
     "text": [
      "False\n",
      "True\n",
      "True\n",
      "False\n"
     ]
    }
   ],
   "source": [
    "#Adapt the function to check if a number is a palindrome\n",
    "import string\n",
    "def is_palindrome(string_check: int):\n",
    "    rev_string = \"\"\n",
    "    string1 = string_check.lower().strip(string.punctuation).replace(\" \", \"\") #remove punctuation from string\n",
    "    #print(string1)\n",
    "    for char in string1:\n",
    "        rev_string = char + rev_string\n",
    "    #print(rev_string)\n",
    "    if rev_string == string1:\n",
    "        return(True)\n",
    "    else:\n",
    "        return(False)\n",
    "         \n",
    "number = input(\"Enter a number to check for palindrome : \")\n",
    "print(is_palindrome(str(123456)))\n",
    "print(is_palindrome(str(35053)) )\n",
    "print(is_palindrome(str(44444)))\n",
    "print(is_palindrome(number))"
   ]
  },
  {
   "cell_type": "code",
   "execution_count": 5,
   "id": "79f9eadb",
   "metadata": {},
   "outputs": [
    {
     "name": "stdout",
     "output_type": "stream",
     "text": [
      "Yes, racecar is a palindrome.\n",
      "hello is not a palindrome.\n",
      "Yes, A man a plan a canal Panama is a palindrome.\n",
      "Yes, Lonely Tylenol is a palindrome.\n"
     ]
    }
   ],
   "source": [
    "#Return a message instead of a Boolean (e.g., \"Yes, it's a palindrome!\")\n",
    "import string\n",
    "def is_palindrome(string_check: str):\n",
    "    rev_string = \"\"\n",
    "    string1 = string_check.lower().strip(string.punctuation).replace(\" \", \"\")\n",
    "    #print(string1)\n",
    "    for char in string1:\n",
    "        rev_string = char + rev_string\n",
    "    #print(rev_string)\n",
    "    if rev_string == string1:\n",
    "        return(f\"Yes, {string_check} is a palindrome.\")\n",
    "    else:\n",
    "        return(f\"{string_check} is not a palindrome.\")\n",
    "         \n",
    "#string = input(\"Enter a string to check for palindrome : \")\n",
    "print(is_palindrome(\"racecar\"))\n",
    "print(is_palindrome(\"hello\") )\n",
    "print(is_palindrome(\"A man a plan a canal Panama\"))\n",
    "print(is_palindrome(\"Lonely Tylenol\"))"
   ]
  },
  {
   "cell_type": "code",
   "execution_count": 6,
   "id": "457840cd",
   "metadata": {},
   "outputs": [
    {
     "name": "stdout",
     "output_type": "stream",
     "text": [
      "Yes, racecar is a palindrome.\n",
      "hello is not a palindrome.\n",
      "Yes, A man a plan a canal Panama is a palindrome.\n",
      "Yes, Lonely Tylenol is a palindrome.\n"
     ]
    }
   ],
   "source": [
    "#Make the function case-insensitive without altering the original input \n",
    "import string\n",
    "def is_palindrome(string_check):\n",
    "    rev_string = \"\"\n",
    "    string1 = string_check.lower().strip(string.punctuation).replace(\" \", \"\")\n",
    "    #print(string1)\n",
    "    for char in string1:\n",
    "        rev_string = char + rev_string\n",
    "    #print(rev_string)\n",
    "    if rev_string == string1:\n",
    "        return(f\"Yes, {string_check} is a palindrome.\")\n",
    "    else:\n",
    "        return(f\"{string_check} is not a palindrome.\")\n",
    "         \n",
    "#string = input(\"Enter a string to check for palindrome : \")\n",
    "print(is_palindrome(\"racecar\"))\n",
    "print(is_palindrome(\"hello\") )\n",
    "print(is_palindrome(\"A man a plan a canal Panama\"))\n",
    "print(is_palindrome(\"Lonely Tylenol\"))"
   ]
  }
 ],
 "metadata": {
  "kernelspec": {
   "display_name": "Python 3",
   "language": "python",
   "name": "python3"
  },
  "language_info": {
   "codemirror_mode": {
    "name": "ipython",
    "version": 3
   },
   "file_extension": ".py",
   "mimetype": "text/x-python",
   "name": "python",
   "nbconvert_exporter": "python",
   "pygments_lexer": "ipython3",
   "version": "3.12.10"
  }
 },
 "nbformat": 4,
 "nbformat_minor": 5
}
