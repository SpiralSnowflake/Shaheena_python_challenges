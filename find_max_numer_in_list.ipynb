{
 "cells": [
  {
   "cell_type": "markdown",
   "id": "1296cda7",
   "metadata": {},
   "source": [
    "Find the Maximum Number in a List\n",
    "Challenge: Find the Max\n",
    "Problem\n",
    "1. Write a function that takes a list of numbers and returns the maximum value in the list — the largest number.\n",
    "\n",
    "Examples\n",
    "find_max([4, 9, 1, 17, 2])   #Output : 17  \n",
    "find_max([-5, -9, -2, -12]) #Output :  -2  \n",
    "find_max([42])  #Output : 42\n",
    "Your Task\n",
    "Define a function called find_max that accepts a list of integers or floats.\n",
    "Return the largest number in the list.\n",
    "Do not use the built-in max() function — try to solve it manually using:\n",
    "A for loop to check each number\n",
    "A variable to track the current maximum\n",
    "Concepts Tested\n",
    "Looping through a list\n",
    "Comparison and conditional logic\n",
    "List handling\n",
    "Defensive programming (optional)\n",
    "Stretch Ideas\n",
    "2. Add error handling for empty lists\n",
    "3. Allow the function to work with mixed positive and negative values\n",
    "4. Return both the max value and its index in the list\n",
    "5. Rewrite it using a while loop instead of a for loop\n",
    "Hint\n",
    "You’ll need a variable to hold the current highest number as you loop through the list — and update it whenever you find a bigger one."
   ]
  },
  {
   "cell_type": "code",
   "execution_count": 2,
   "id": "c58249b5",
   "metadata": {},
   "outputs": [
    {
     "name": "stdout",
     "output_type": "stream",
     "text": [
      "Max number in the list [4, 9, 1, 17, 2] is 17\n",
      "Max number in the list [4, 9, 1, 17, 2] is 17\n",
      "Max number in the list [0, -3, -6, 5, -9] is 5\n",
      "Max number in the list [-5, -9, -2, -12] is -2\n",
      "Max number in the list [42] is 42\n",
      "Max number in the list [2.56, 7.894, -6, -2, 34, 90.67] is 90.67\n"
     ]
    }
   ],
   "source": [
    "#Write a function that takes a list of numbers and returns the maximum value in the list — the largest number.\n",
    "def find_max(list_num: list):\n",
    "    max_num = list_num[0]\n",
    "    for i in list_num:\n",
    "        if i>max_num:\n",
    "            max_num = i\n",
    "    return(max_num)\n",
    "\n",
    "#list_to_test =find_max([])\n",
    "list_to_test = [4, 9, 1, 17, 2]\n",
    "print(f\"Max number in the list {list_to_test} is {find_max(list_to_test)}\")\n",
    "list_to_test = [4, 9, 1, 17, 2]\n",
    "print(f\"Max number in the list {list_to_test} is {find_max(list_to_test)}\")\n",
    "list_to_test1 = [0,-3,-6,5,-9]\n",
    "print(f\"Max number in the list {list_to_test1} is {find_max(list_to_test1)}\")\n",
    "list_to_test2 = [-5, -9, -2, -12]\n",
    "print(f\"Max number in the list {list_to_test2} is {find_max(list_to_test2)}\")\n",
    "list_to_test3 = [42]\n",
    "print(f\"Max number in the list {list_to_test3} is {find_max(list_to_test3)}\")\n",
    "list_to_test4 = [2.56,7.894,-6,-2,34,90.67]\n",
    "print(f\"Max number in the list {list_to_test4} is {find_max(list_to_test4)}\")\n",
    "    "
   ]
  },
  {
   "cell_type": "code",
   "execution_count": null,
   "id": "a2e3eead",
   "metadata": {},
   "outputs": [
    {
     "name": "stdout",
     "output_type": "stream",
     "text": [
      "Max number in the list [4, 9, 1, 17, 2] is 17\n",
      "Max number in the list [0, -3, -6, 5, -9] is 5\n",
      "Max number in the list [-5, -9, -2, -12] is -2\n",
      "Max number in the list [42] is 42\n",
      "Max number in the list [2.56, 7.894, -6, -2, 34, 90.67] is 90.67\n",
      "Empty List error.\n",
      "Max number in the list [] is None\n"
     ]
    }
   ],
   "source": [
    "#Add error handling for empty lists\n",
    "#Version1 with printing while calling the function\n",
    "def find_max(list_num: list):\n",
    "    try :\n",
    "        max_num = list_num[0]\n",
    "        for i in list_num:\n",
    "            if i>max_num:\n",
    "                max_num = i\n",
    "        return(max_num)\n",
    "    except :\n",
    "        print(\"Empty List error.\")\n",
    "        \n",
    "list_to_test = [4, 9, 1, 17, 2]\n",
    "print(f\"Max number in the list {list_to_test} is {find_max(list_to_test)}\")\n",
    "list_to_test1 = [0,-3,-6,5,-9]\n",
    "print(f\"Max number in the list {list_to_test1} is {find_max(list_to_test1)}\")\n",
    "list_to_test2 = [-5, -9, -2, -12]\n",
    "print(f\"Max number in the list {list_to_test2} is {find_max(list_to_test2)}\")\n",
    "list_to_test3 = [42]\n",
    "print(f\"Max number in the list {list_to_test3} is {find_max(list_to_test3)}\")\n",
    "list_to_test4 = [2.56,7.894,-6,-2,34,90.67]\n",
    "print(f\"Max number in the list {list_to_test4} is {find_max(list_to_test4)}\")\n",
    "list_to_test5 = []\n",
    "print(f\"Max number in the list {list_to_test5} is {find_max(list_to_test5)}\")"
   ]
  },
  {
   "cell_type": "code",
   "execution_count": null,
   "id": "019acea1",
   "metadata": {},
   "outputs": [
    {
     "name": "stdout",
     "output_type": "stream",
     "text": [
      "For the list [4, 9, 1, 17, 2] the maximum value is: 17\n",
      "For the list [0, -3, -6, 5, -9] the maximum value is: 5\n",
      "For the list [-5, -9, -2, -12] the maximum value is: -2\n",
      "For the list [42] the maximum value is: 42\n",
      "For the list [2.56, 7.894, -6, -2, 34, 90.67] the maximum value is: 90.67\n",
      "Empty List error.\n",
      "None\n"
     ]
    }
   ],
   "source": [
    "#Allow the function to work with mixed positive and negative values\n",
    "#above function works for mixed values\n",
    "#Version2 with printing inside the function\n",
    "def find_max(list_num: list):\n",
    "    try :\n",
    "        max_num = list_num[0]\n",
    "        for i in list_num:\n",
    "            if i>max_num:\n",
    "                max_num = i\n",
    "        return(f\"For the list {list_num} the maximum value is: {max_num}\")\n",
    "    except :\n",
    "        print(\"Empty List error.\")\n",
    "        \n",
    "list_to_test = [4, 9, 1, 17, 2]\n",
    "print(find_max(list_to_test))\n",
    "list_to_test1 = [0,-3,-6,5,-9]\n",
    "print(find_max(list_to_test1))\n",
    "list_to_test2 = [-5, -9, -2, -12]\n",
    "print(find_max(list_to_test2))\n",
    "list_to_test3 = [42]\n",
    "print(find_max(list_to_test3))\n",
    "list_to_test4 = [2.56,7.894,-6,-2,34,90.67]\n",
    "print(find_max(list_to_test4))\n",
    "list_to_test5 = []\n",
    "print(find_max(list_to_test5))"
   ]
  },
  {
   "cell_type": "code",
   "execution_count": null,
   "id": "dd617716",
   "metadata": {},
   "outputs": [
    {
     "name": "stdout",
     "output_type": "stream",
     "text": [
      "For the list [4, 9, 1, 17, 2] the maximum value is: 17 at index: 3\n",
      "For the list [0, -3, -6, 5, -9] the maximum value is: 5 at index: 3\n",
      "For the list [-5, -9, -2, -12] the maximum value is: -2 at index: 2\n",
      "For the list [42] the maximum value is: 42 at index: 0\n",
      "For the list [2.56, 7.894, -6, -2, 34, 90.67] the maximum value is: 90.67 at index: 5\n",
      "Empty List error.\n",
      "None\n"
     ]
    }
   ],
   "source": [
    "#Return both the max value and its index in the list\n",
    "#Add error handling for empty lists\n",
    "def find_max_and_index(list_num: list):\n",
    "    try :\n",
    "        max_num = list_num[0]\n",
    "        max_index =0\n",
    "        for i in range(0, len(list_num)):\n",
    "            if list_num[i] > max_num:\n",
    "                max_num = list_num[i]\n",
    "                max_index = i\n",
    "        #print(max_num,max_index)\n",
    "        return(f\"For the list {list_num} the maximum value is: {max_num} at index: {max_index}\")\n",
    "    except :\n",
    "        print(\"Empty List error.\")\n",
    "        \n",
    "list_to_test = [4, 9, 1, 17, 2]\n",
    "print(find_max_and_index(list_to_test))\n",
    "list_to_test1 = [0,-3,-6,5,-9]\n",
    "print(find_max_and_index(list_to_test1))\n",
    "list_to_test2 = [-5, -9, -2, -12]\n",
    "print(find_max_and_index(list_to_test2))\n",
    "list_to_test3 = [42]\n",
    "print(find_max_and_index(list_to_test3))\n",
    "list_to_test4 = [2.56,7.894,-6,-2,34,90.67]\n",
    "print(find_max_and_index(list_to_test4))\n",
    "list_to_test5 = []\n",
    "print(find_max_and_index(list_to_test5))"
   ]
  },
  {
   "cell_type": "code",
   "execution_count": null,
   "id": "0a84443e",
   "metadata": {},
   "outputs": [
    {
     "name": "stdout",
     "output_type": "stream",
     "text": [
      "User entered value - -7,10,3,5,6 , <class 'str'>\n",
      "after using split() function : ['-7', '10', '3', '5', '6'], <class 'list'>\n",
      "after using strip() function : [-7, 10, 3, 5, 6], <class 'list'>\n",
      "For the list [-7, 10, 3, 5, 6] the maximum value is: 10 at index: 1\n"
     ]
    }
   ],
   "source": [
    "# accepting user input list\n",
    "def find_max_and_index(list_num: list):\n",
    "    try :\n",
    "        max_num = list_num[0]\n",
    "        max_index =0\n",
    "        for i in range(0, len(list_num)):\n",
    "            if list_num[i] > max_num:\n",
    "                max_num = list_num[i]\n",
    "                max_index = i\n",
    "        #print(max_num,max_index)\n",
    "        return(f\"For the list {list_num} the maximum value is: {max_num} at index: {max_index}\")\n",
    "    except :\n",
    "        print(\"Empty List error.\")\n",
    "        \n",
    "user_list_to_test =[]\n",
    "user_input_list = input(\"Enter numbers(integers only) separated by commas: \") \n",
    "#print(f\"User entered value - {user_input_list} , {type(user_input_list)}\") #-7,10,3,5,6 , <class 'str'>\n",
    "numbers_list = user_input_list.split(',') # Splits the string by commas into list of individual strings ['-7', '10', '3', '5', '6'], <class 'list'>\n",
    "#print(f\"after using split() function : {numbers_list}, {type(numbers_list)}\")\n",
    "user_list_to_test = [int(num.strip()) for num in numbers_list] # Converts each string to int  [-7, 10, 3, 5, 6], <class 'list'>\n",
    "#print(f\"after using strip() function : {user_list_to_test}, {type(user_list_to_test)}\")\n",
    "print(find_max_and_index(user_list_to_test))"
   ]
  },
  {
   "cell_type": "code",
   "execution_count": 1,
   "id": "fb93fdb7",
   "metadata": {},
   "outputs": [
    {
     "name": "stdout",
     "output_type": "stream",
     "text": [
      "For the list [4, 9, 1, 17, 2] the maximum value is: 17 at index: 3\n",
      "For the list [0, -3, -6, 5, -9] the maximum value is: 5 at index: 3\n",
      "For the list [-5, -9, -2, -12] the maximum value is: -2 at index: 2\n",
      "For the list [42] the maximum value is: 42 at index: 0\n",
      "For the list [2.56, 7.894, -6, -2, 34, 90.67] the maximum value is: 90.67 at index: 5\n",
      "Empty List error.\n",
      "None\n"
     ]
    }
   ],
   "source": [
    "# Rewrite it using a while loop instead of a for loop\n",
    "\n",
    "def find_max_and_index(list_num):\n",
    "    try :\n",
    "        max_num = list_num[0]\n",
    "        max_index =0\n",
    "        i=0\n",
    "        while i < len(list_num):\n",
    "            if list_num[i] > max_num:\n",
    "                max_num = list_num[i]\n",
    "                max_index = i\n",
    "            i +=1\n",
    "        #print(max_num,max_index)\n",
    "        return(f\"For the list {list_num} the maximum value is: {max_num} at index: {max_index}\")\n",
    "    except :\n",
    "        print(\"Empty List error.\")\n",
    "        \n",
    "list_to_test = [4, 9, 1, 17, 2]\n",
    "print(find_max_and_index(list_to_test))\n",
    "list_to_test1 = [0,-3,-6,5,-9]\n",
    "print(find_max_and_index(list_to_test1))\n",
    "list_to_test2 = [-5, -9, -2, -12]\n",
    "print(find_max_and_index(list_to_test2))\n",
    "list_to_test3 = [42]\n",
    "print(find_max_and_index(list_to_test3))\n",
    "list_to_test4 = [2.56,7.894,-6,-2,34,90.67]\n",
    "print(find_max_and_index(list_to_test4))\n",
    "list_to_test5 = []\n",
    "print(find_max_and_index(list_to_test5))"
   ]
  }
 ],
 "metadata": {
  "kernelspec": {
   "display_name": "Python 3",
   "language": "python",
   "name": "python3"
  },
  "language_info": {
   "codemirror_mode": {
    "name": "ipython",
    "version": 3
   },
   "file_extension": ".py",
   "mimetype": "text/x-python",
   "name": "python",
   "nbconvert_exporter": "python",
   "pygments_lexer": "ipython3",
   "version": "3.12.10"
  }
 },
 "nbformat": 4,
 "nbformat_minor": 5
}
