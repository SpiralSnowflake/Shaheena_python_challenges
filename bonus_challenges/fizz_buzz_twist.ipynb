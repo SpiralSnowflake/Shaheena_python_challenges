{
 "cells": [
  {
   "cell_type": "markdown",
   "id": "c4fba63c",
   "metadata": {},
   "source": [
    "Challenge: FizzBuzz with a Twist\n",
    "Problem\n",
    "1. You've done FizzBuzz — now let's mix it up. Add new rules and variations to challenge your logic and creativity.\n",
    "\n",
    "Example Rules\n",
    "Print “Fizz” if divisible by 3\n",
    "Print “Buzz” if divisible by 5\n",
    "Print “Bang” if divisible by 7\n",
    "Combine outputs if divisible by multiple (e.g., 15 → FizzBuzz)\n",
    "Your Task\n",
    "1. Loop through numbers 1 to 100\n",
    "2. Apply the rules above (or make your own!)\n",
    "3. Print the result of each number\n",
    "Concepts Tested\n",
    "Loops\n",
    "Modulo operator\n",
    "String building and conditionals\n",
    "Stretch Ideas\n",
    "2. Let the user enter their own rules (divisors and words)\n",
    "3. Add an option to write the output to a file\n",
    "4. Create a reverse FizzBuzz that asks the user for a word and finds which number(s) it applies to"
   ]
  },
  {
   "cell_type": "code",
   "execution_count": null,
   "id": "d6d07733",
   "metadata": {},
   "outputs": [],
   "source": [
    "#You've done FizzBuzz — now let's mix it up. Add new rules and variations to challenge your logic and creativity.\n",
    "# 1. Loop through numbers 1 to 100\n",
    "# 2. Apply the rules above (or make your own!)\n",
    "# 3. Print the result of each number\n",
    "def fizzbuzz(n: int) -> None:\n",
    "    for i in range(1, n + 1):\n",
    "        if i % 3 == 0 and i % 5 == 0 and i % 7 ==0:\n",
    "            print(\"FizzBuzzBang\")\n",
    "        elif i % 5 == 0 and i % 7 == 0:\n",
    "            print(\"BuzzBang\")\n",
    "        elif i % 3 == 0 and i % 7 == 0:\n",
    "            print(\"FizzBuzz\")\n",
    "        elif i % 3 == 0 and i % 5 == 0:\n",
    "            print(\"FizzBang\")\n",
    "        elif i % 3 == 0:\n",
    "            print(\"Fizz\")\n",
    "        elif i % 5 == 0:\n",
    "            print(\"Buzz\")\n",
    "        elif i % 7 == 0:\n",
    "            print(\"Bang\")\n",
    "        else:\n",
    "            print(i)\n",
    "\n",
    "# Example usage:\n",
    "fizzbuzz(100)"
   ]
  },
  {
   "cell_type": "code",
   "execution_count": 7,
   "id": "c2dc388a",
   "metadata": {},
   "outputs": [
    {
     "name": "stdout",
     "output_type": "stream",
     "text": [
      "\n",
      "Dictionary created from user input:\n",
      "{'2': 'r', '3': 't'}\n",
      "{3: 't'}\n"
     ]
    }
   ],
   "source": [
    "user_dict = {}\n",
    "rules ={}\n",
    "user_no_of_divisors = int(input(\"Enter the number of divisors: \"))\n",
    "    #user_divisor_words = {input(\"Enter the divisor: \"): input(\"Enter the word: \") for _ in range(user_no_of_divisors)}\n",
    "for i in range(user_no_of_divisors):\n",
    "        key = input(f\"Enter the divisor: {i+1}: \")\n",
    "        value = input(f\"Enter the word {i+1}: \")\n",
    "        user_dict[key] = value\n",
    "print(\"\\nDictionary created from user input:\")\n",
    "print(user_dict)\n",
    "rules[int(key)] = value\n",
    "print(rules)"
   ]
  },
  {
   "cell_type": "code",
   "execution_count": null,
   "id": "22376969",
   "metadata": {},
   "outputs": [],
   "source": [
    "#2. Let the user enter their own rules (divisors and words) using dictionaries\n",
    "\n",
    "def fizzbuzz_custom(n: int) -> None:\n",
    "    user_dict = {}\n",
    "    user_no_of_divisors = int(input(\"Enter the number of divisors: \"))\n",
    "    for no in range(user_no_of_divisors):\n",
    "        key = input(f\"Enter the divisor: {no+1}: \")\n",
    "        value = input(f\"Enter the word {no+1}: \")\n",
    "        user_dict[key] = value\n",
    "    print(\"\\nDictionary created from user input:\")\n",
    "    print(user_dict)\n",
    "    for i in range(1, n + 1):\n",
    "        output = \"\"\n",
    "        for key, value in user_dict.items():\n",
    "            if i % int(key) == 0:\n",
    "                output += value\n",
    "        if output:\n",
    "            print(output)\n",
    "        else:\n",
    "            print(i)\n",
    "\n",
    "fizzbuzz_custom(40)"
   ]
  },
  {
   "cell_type": "code",
   "execution_count": null,
   "id": "6712d853",
   "metadata": {},
   "outputs": [
    {
     "name": "stdout",
     "output_type": "stream",
     "text": [
      "\n",
      "Dictionary created from user input:\n",
      "{'2': 'Try', '3': 'and Try!', '5': 'yes try!!!'}\n"
     ]
    }
   ],
   "source": [
    "#3. Add an option to write the output to a file\n",
    "\n",
    "def fizzbuzz_custom_file(n: int) -> None:\n",
    "    user_dict = {}\n",
    "    user_no_of_divisors = int(input(\"Enter the number of divisors: \"))\n",
    "    for no in range(user_no_of_divisors):\n",
    "        key = input(f\"Enter the divisor: {no+1}: \")\n",
    "        value = input(f\"Enter the word {no+1}: \")\n",
    "        user_dict[key] = value\n",
    "    #print(\"\\nDictionary created from user input:\")\n",
    "    #print(user_dict)\n",
    "    with open(\"fizz_buzz_custom.txt\",'a') as f:\n",
    "                f.write(f\"Dictionary created from user input:{user_dict}\\n\")\n",
    "    for i in range(1, n + 1):\n",
    "        output = \"\"\n",
    "        for key, value in user_dict.items():\n",
    "            if i % int(key) == 0:\n",
    "                output += value\n",
    "        if output:\n",
    "            #print(output)\n",
    "            with open(\"fizz_buzz_custom.txt\",'a') as f:\n",
    "                f.write(f\"{output}\\n\")\n",
    "        else:\n",
    "            #print(i)\n",
    "            with open(\"fizz_buzz_custom.txt\",'a') as f:\n",
    "                f.write(f\"{str(i)}\\n\")\n",
    "    f.close()\n",
    "\n",
    "fizzbuzz_custom_file(40)\n",
    "#{'2': 'Hii', '3': 'Whyyy', '7': 'WooHoo'}\n"
   ]
  },
  {
   "cell_type": "code",
   "execution_count": 23,
   "id": "93efd504",
   "metadata": {},
   "outputs": [
    {
     "name": "stdout",
     "output_type": "stream",
     "text": [
      "Fizz corresponds to the number: 3\n",
      "Buzz corresponds to the number: 5\n",
      "[1, 2, 3, 4, 5, 6, 7, 8, 9, 10, 11, 12, 13, 14, 15]\n"
     ]
    }
   ],
   "source": [
    "#4. Create a reverse FizzBuzz that asks the user for a word and finds which number(s) it applies to\n",
    "def reverse_fizzbuzz(output_list):\n",
    "    result = []\n",
    "    i = 1  # start counting from 1\n",
    "\n",
    "    # Keep track of the factors that define Fizz and Buzz\n",
    "    # We assume these are 3 and 5 based on the standard FizzBuzz rules\n",
    "    fizz_factor = 3\n",
    "    buzz_factor = 5\n",
    "\n",
    "    for item in output_list:\n",
    "        if item == \"FizzBuzz\":\n",
    "            if i % fizz_factor == 0 and i % buzz_factor == 0:\n",
    "                result.append(i)\n",
    "        elif item == \"Fizz\":\n",
    "            if i % fizz_factor == 0 and i % buzz_factor != 0:\n",
    "                result.append(i)\n",
    "        elif item == \"Buzz\":\n",
    "            if i % buzz_factor == 0 and i % fizz_factor != 0:\n",
    "                result.append(i)\n",
    "        elif item.isdigit():  # Checking if the item is a digit\n",
    "            result.append(int(item))\n",
    "        else:\n",
    "            print(f\"Unknown item: {item}\")\n",
    "        i += 1  # Increase the count each loop\n",
    "\n",
    "    # We can infer the \"Fizz\" number as fizz_factor and \"Buzz\" as buzz_factor\n",
    "    print(f\"Fizz corresponds to the number: {fizz_factor}\")\n",
    "    print(f\"Buzz corresponds to the number: {buzz_factor}\")\n",
    "\n",
    "    return result\n",
    "\n",
    "print(reverse_fizzbuzz([\"1\", \"2\", \"Fizz\", \"4\", \"Buzz\", \"Fizz\", \"7\", \"8\", \"Fizz\", \"Buzz\", \"11\", \"Fizz\", \"13\", \"14\", \"FizzBuzz\"]))\n"
   ]
  }
 ],
 "metadata": {
  "kernelspec": {
   "display_name": "Python 3",
   "language": "python",
   "name": "python3"
  },
  "language_info": {
   "codemirror_mode": {
    "name": "ipython",
    "version": 3
   },
   "file_extension": ".py",
   "mimetype": "text/x-python",
   "name": "python",
   "nbconvert_exporter": "python",
   "pygments_lexer": "ipython3",
   "version": "3.12.10"
  }
 },
 "nbformat": 4,
 "nbformat_minor": 5
}
