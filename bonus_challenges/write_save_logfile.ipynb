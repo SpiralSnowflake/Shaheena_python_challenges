{
 "cells": [
  {
   "cell_type": "markdown",
   "id": "a7e288d5",
   "metadata": {},
   "source": [
    "Challenge: Write and Save a Simple Log File\n",
    "Problem\n",
    "1. Build a simple program that asks the user for input (e.g., a message or activity) and writes it to a log file along with the current timestamp.\n",
    "\n",
    "Example\n",
    "User input: Took a break and had coffee.  \n",
    "→ Written to file as: [2025-06-24 10:03:00] Took a break and had coffee.\n",
    "Your Task\n",
    "Prompt the user to enter a message\n",
    "Get the current time using datetime\n",
    "Append the message and timestamp to a log file (log.txt)\n",
    "Concepts Tested\n",
    "User input\n",
    "File writing with append mode ('a')\n",
    "Using the datetime module\n",
    "Stretch Ideas\n",
    "2. Let the user view the log file contents\n",
    "3. Categorize messages (e.g., “Work”, “Break”, “Note”)\n",
    "4. Add an option to clear the log"
   ]
  },
  {
   "cell_type": "code",
   "execution_count": null,
   "id": "d55f4df9",
   "metadata": {},
   "outputs": [],
   "source": [
    "# Build a simple program that asks the user for input (e.g., a message or activity) and writes it to a log file along with the current timestamp.\n",
    "\n",
    "import os\n",
    "import datetime\n",
    "\n",
    "def user_activity_file() ->None:\n",
    "    # 1. Prompt the user to enter a message\n",
    "    user_message = input(\"Please enter your log message/activity : \")\n",
    "    # 2. Get the current time using datetime\n",
    "    current_datetime = datetime.datetime.now()\n",
    "    # 3. Append the message and timestamp to a log file (log.txt)\n",
    "    with open(\"log_file.txt\", 'a') as f:\n",
    "            f.write(f\"{user_message} @ {current_datetime}\\n\")\n",
    "    \n",
    "    return \n",
    "user_activity_file()"
   ]
  },
  {
   "cell_type": "code",
   "execution_count": 17,
   "id": "dd49e0f8",
   "metadata": {},
   "outputs": [
    {
     "name": "stdout",
     "output_type": "stream",
     "text": [
      "Contents of log_file.txt are : \n",
      "None. Logged in. @ 2025-08-06 21:59:37.803013\n",
      " Working on Project1. @ 2025-08-06 22:07:36.209516\n",
      "Work : Working on project 1 analysis. @ 2025-08-07 20:20:12.632759\n",
      "\n"
     ]
    }
   ],
   "source": [
    "# Let the user view the log file contents\n",
    "def view_file(filepath) ->None:\n",
    "    with open(filepath, 'r') as f:\n",
    "        content = f.read()\n",
    "        print(f\"Contents of {filepath} are : \\n{content}\")\n",
    "        \n",
    "view_file(\"log_file.txt\")"
   ]
  },
  {
   "cell_type": "code",
   "execution_count": null,
   "id": "3a59b553",
   "metadata": {},
   "outputs": [],
   "source": [
    "# Categorize messages (e.g., “Work”, “Break”, “Note”)\n",
    "import os\n",
    "import datetime\n",
    "\n",
    "def user_activity_file_categorize() ->None:\n",
    "    # 1. Prompt the user to enter a message\n",
    "    user_message_type = input(\"Enter log type ( “Work”, “Break”, “Note”): \")\n",
    "    user_message = input(\"Please enter your log message/activity : \")\n",
    "    # 2. Get the current time using datetime\n",
    "    current_datetime = datetime.datetime.now()\n",
    "    # 3. Append the message and timestamp to a log file (log.txt)\n",
    "    with open(\"log_file.txt\", 'a') as f:\n",
    "            f.write(f\"{user_message_type} : {user_message} @ {current_datetime}\\n\")\n",
    "    \n",
    "    return \n",
    "user_activity_file_categorize()"
   ]
  },
  {
   "cell_type": "code",
   "execution_count": null,
   "id": "f40dfa8b",
   "metadata": {},
   "outputs": [
    {
     "ename": "NameError",
     "evalue": "name 'user_activity_file_categorize' is not defined",
     "output_type": "error",
     "traceback": [
      "\u001b[31m---------------------------------------------------------------------------\u001b[39m",
      "\u001b[31mNameError\u001b[39m                                 Traceback (most recent call last)",
      "\u001b[36mCell\u001b[39m\u001b[36m \u001b[39m\u001b[32mIn[1]\u001b[39m\u001b[32m, line 25\u001b[39m\n\u001b[32m     22\u001b[39m         \u001b[38;5;28;01melse\u001b[39;00m:\n\u001b[32m     23\u001b[39m             \u001b[38;5;28mprint\u001b[39m(\u001b[33m\"\u001b[39m\u001b[33mPlease enter a valid choice\u001b[39m\u001b[33m\"\u001b[39m)\n\u001b[32m---> \u001b[39m\u001b[32m25\u001b[39m \u001b[43mlog_file_operations\u001b[49m\u001b[43m(\u001b[49m\u001b[43m)\u001b[49m\n",
      "\u001b[36mCell\u001b[39m\u001b[36m \u001b[39m\u001b[32mIn[1]\u001b[39m\u001b[32m, line 16\u001b[39m, in \u001b[36mlog_file_operations\u001b[39m\u001b[34m()\u001b[39m\n\u001b[32m     14\u001b[39m     view_file(\u001b[33m\"\u001b[39m\u001b[33mlog_file.txt\u001b[39m\u001b[33m\"\u001b[39m)\n\u001b[32m     15\u001b[39m \u001b[38;5;28;01melif\u001b[39;00m user_choice == \u001b[32m2\u001b[39m:\n\u001b[32m---> \u001b[39m\u001b[32m16\u001b[39m     \u001b[43muser_activity_file_categorize\u001b[49m()\n\u001b[32m     17\u001b[39m \u001b[38;5;28;01melif\u001b[39;00m user_choice == \u001b[32m3\u001b[39m:\n\u001b[32m     18\u001b[39m     log_file_clear(\u001b[33m\"\u001b[39m\u001b[33mlog_file.txt\u001b[39m\u001b[33m\"\u001b[39m)\n",
      "\u001b[31mNameError\u001b[39m: name 'user_activity_file_categorize' is not defined"
     ]
    }
   ],
   "source": [
    "#Add an option to clear the log\n",
    "import os\n",
    "import datetime\n",
    "\n",
    "def user_activity_file_categorize() ->None:\n",
    "    # 1. Prompt the user to enter a message\n",
    "    user_message_type = input(\"Enter log type ( “Work”, “Break”, “Note”): \")\n",
    "    user_message = input(\"Please enter your log message/activity : \")\n",
    "    # 2. Get the current time using datetime\n",
    "    current_datetime = datetime.datetime.now()\n",
    "    # 3. Append the message and timestamp to a log file (log.txt)\n",
    "    with open(\"log_file.txt\", 'a') as f:\n",
    "            f.write(f\"{user_message_type} : {user_message} @ {current_datetime}\\n\")\n",
    "    return \n",
    "def view_file(filepath) ->None:\n",
    "    with open(filepath, 'r') as f:\n",
    "        content = f.read()\n",
    "        print(f\"Contents of {filepath} are : \\n{content}\")\n",
    "\n",
    "def log_file_clear(filepath) -> None:\n",
    "    if os.path.exists(filepath):\n",
    "            os.remove(filepath)\n",
    "    else:\n",
    "            print(\"The file doesnot exixt.\")\n",
    "    \n",
    "def log_file_operations() -> None:\n",
    "    i= True\n",
    "    while i==True:\n",
    "        user_choice = int(input(\"Please enter your choice(1,2,3,4) \\t1.View log file \\t2.Make a log file entry \\t 3. Clear log file \\t4.Exit:  \"))\n",
    "        if user_choice == 1:\n",
    "            view_file(\"log_file.txt\")\n",
    "        elif user_choice == 2:\n",
    "            user_activity_file_categorize()\n",
    "        elif user_choice == 3:\n",
    "            log_file_clear(\"log_file.txt\")\n",
    "        elif user_choice == 4:\n",
    "            i=False\n",
    "            break\n",
    "        else:\n",
    "            print(\"Please enter a valid choice\")\n",
    "\n",
    "log_file_operations()"
   ]
  }
 ],
 "metadata": {
  "kernelspec": {
   "display_name": "Python 3",
   "language": "python",
   "name": "python3"
  },
  "language_info": {
   "codemirror_mode": {
    "name": "ipython",
    "version": 3
   },
   "file_extension": ".py",
   "mimetype": "text/x-python",
   "name": "python",
   "nbconvert_exporter": "python",
   "pygments_lexer": "ipython3",
   "version": "3.12.10"
  }
 },
 "nbformat": 4,
 "nbformat_minor": 5
}
