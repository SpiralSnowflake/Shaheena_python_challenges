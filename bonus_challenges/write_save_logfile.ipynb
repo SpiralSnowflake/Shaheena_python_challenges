{
 "cells": [
  {
   "cell_type": "markdown",
   "id": "a7e288d5",
   "metadata": {},
   "source": [
    "Challenge: Write and Save a Simple Log File\n",
    "Problem\n",
    "1. Build a simple program that asks the user for input (e.g., a message or activity) and writes it to a log file along with the current timestamp.\n",
    "\n",
    "Example\n",
    "User input: Took a break and had coffee.  \n",
    "→ Written to file as: [2025-06-24 10:03:00] Took a break and had coffee.\n",
    "Your Task\n",
    "Prompt the user to enter a message\n",
    "Get the current time using datetime\n",
    "Append the message and timestamp to a log file (log.txt)\n",
    "Concepts Tested\n",
    "User input\n",
    "File writing with append mode ('a')\n",
    "Using the datetime module\n",
    "Stretch Ideas\n",
    "2. Let the user view the log file contents\n",
    "3. Categorize messages (e.g., “Work”, “Break”, “Note”)\n",
    "4. Add an option to clear the log"
   ]
  },
  {
   "cell_type": "code",
   "execution_count": 5,
   "id": "d55f4df9",
   "metadata": {},
   "outputs": [],
   "source": [
    "# Build a simple program that asks the user for input (e.g., a message or activity) and writes it to a log file along with the current timestamp.\n",
    "\n",
    "import os\n",
    "import datetime\n",
    "\n",
    "def user_activity_file() ->None:\n",
    "    # 1. Prompt the user to enter a message\n",
    "    user_message = input(\"Please enter your log message/activity : \")\n",
    "    # 2. Get the current time using datetime\n",
    "    current_datetime = datetime.datetime.now()\n",
    "    # 3. Append the message and timestamp to a log file (log.txt)\n",
    "    with open(\"log_file.txt\", 'a') as f:\n",
    "            f.write(f\"[{current_datetime}] {user_message}\\n\")\n",
    "    \n",
    "    return \n",
    "user_activity_file()"
   ]
  },
  {
   "cell_type": "code",
   "execution_count": 6,
   "id": "dd49e0f8",
   "metadata": {},
   "outputs": [
    {
     "name": "stdout",
     "output_type": "stream",
     "text": [
      "Contents of log_file.txt are : \n",
      "None. Logged in. @ 2025-08-06 21:59:37.803013\n",
      " Working on Project1. @ 2025-08-06 22:07:36.209516\n",
      "Work : Working on project 1 analysis. @ 2025-08-07 20:20:12.632759\n",
      "Note : Adding notes for project file3 @ 2025-08-16 12:31:49.965982\n",
      "[datetime.datetime(2025, 8, 16, 12, 33, 38, 447647)]  Coffee Break\n",
      "[2025-08-16 12:34:26.390738] Lunck break\n",
      "\n"
     ]
    }
   ],
   "source": [
    "# Let the user view the log file contents\n",
    "def view_file(filepath) ->None:\n",
    "    with open(filepath, 'r') as f:\n",
    "        content = f.read()\n",
    "        print(f\"Contents of {filepath} are : \\n{content}\")\n",
    "        \n",
    "view_file(\"log_file.txt\")"
   ]
  },
  {
   "cell_type": "code",
   "execution_count": 7,
   "id": "3a59b553",
   "metadata": {},
   "outputs": [],
   "source": [
    "# Categorize messages (e.g., “Work”, “Break”, “Note”)\n",
    "import os\n",
    "import datetime\n",
    "\n",
    "def user_activity_file_categorize() ->None:\n",
    "    # 1. Prompt the user to enter a message\n",
    "    user_message_type = input(\"Enter log type ( “Work”, “Break”, “Note”): \")\n",
    "    user_message = input(\"Please enter your log message/activity : \")\n",
    "    # 2. Get the current time using datetime\n",
    "    current_datetime = datetime.datetime.now()\n",
    "    # 3. Append the message and timestamp to a log file (log.txt)\n",
    "    with open(\"log_file.txt\", 'a') as f:\n",
    "            f.write(f\"{user_message_type} : {user_message} @ {current_datetime}\\n\")\n",
    "    \n",
    "    return \n",
    "user_activity_file_categorize()"
   ]
  },
  {
   "cell_type": "code",
   "execution_count": 2,
   "id": "f40dfa8b",
   "metadata": {},
   "outputs": [
    {
     "name": "stdout",
     "output_type": "stream",
     "text": [
      "Contents of log_file.txt are : \n",
      "None. Logged in. @ 2025-08-06 21:59:37.803013\n",
      " Working on Project1. @ 2025-08-06 22:07:36.209516\n",
      "Work : Working on project 1 analysis. @ 2025-08-07 20:20:12.632759\n",
      "Note : Adding notes for project file3 @ 2025-08-16 12:31:49.965982\n",
      "\n"
     ]
    }
   ],
   "source": [
    "#Add an option to clear the log\n",
    "import os\n",
    "import datetime\n",
    "\n",
    "def user_activity_file_categorize() ->None:\n",
    "    # 1. Prompt the user to enter a message\n",
    "    user_message_type = input(\"Enter log type ( “Work”, “Break”, “Note”): \")\n",
    "    user_message = input(\"Please enter your log message/activity : \")\n",
    "    # 2. Get the current time using datetime\n",
    "    current_datetime = datetime.datetime.now()\n",
    "    # 3. Append the message and timestamp to a log file (log.txt)\n",
    "    with open(\"log_file.txt\", 'a') as f:\n",
    "            f.write(f\"{user_message_type} : {user_message} @ {current_datetime}\\n\")\n",
    "    return \n",
    "def view_file(filepath) ->None:\n",
    "    with open(filepath, 'r') as f:\n",
    "        content = f.read()\n",
    "        print(f\"Contents of {filepath} are : \\n{content}\")\n",
    "\n",
    "def log_file_clear(filepath) -> None:\n",
    "    if os.path.exists(filepath):\n",
    "            os.remove(filepath)\n",
    "    else:\n",
    "            print(\"The file doesnot exixt.\")\n",
    "    \n",
    "def log_file_operations() -> None:\n",
    "    i= True\n",
    "    while i==True:\n",
    "        user_choice = int(input(\"Please enter your choice(1,2,3,4) \\t1.View log file \\t2.Make a log file entry \\t 3. Clear log file \\t4.Exit:  \"))\n",
    "        if user_choice == 1:\n",
    "            view_file(\"log_file.txt\")\n",
    "        elif user_choice == 2:\n",
    "            user_activity_file_categorize()\n",
    "        elif user_choice == 3:\n",
    "            log_file_clear(\"log_file.txt\")\n",
    "        elif user_choice == 4:\n",
    "            i=False\n",
    "            break\n",
    "        else:\n",
    "            print(\"Please enter a valid choice\")\n",
    "\n",
    "log_file_operations()"
   ]
  }
 ],
 "metadata": {
  "kernelspec": {
   "display_name": "Python 3",
   "language": "python",
   "name": "python3"
  },
  "language_info": {
   "codemirror_mode": {
    "name": "ipython",
    "version": 3
   },
   "file_extension": ".py",
   "mimetype": "text/x-python",
   "name": "python",
   "nbconvert_exporter": "python",
   "pygments_lexer": "ipython3",
   "version": "3.12.10"
  }
 },
 "nbformat": 4,
 "nbformat_minor": 5
}
