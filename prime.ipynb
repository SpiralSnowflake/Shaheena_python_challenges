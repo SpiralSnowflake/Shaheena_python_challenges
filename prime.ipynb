{
 "cells": [
  {
   "cell_type": "markdown",
   "id": "841185e8",
   "metadata": {},
   "source": [
    "Check if Prime\n",
    "Challenge: Prime Time\n",
    "Problem\n",
    "1. Write a function that checks whether a number is prime. A prime number is a number greater than 1 that has no divisors other than 1 and itself.\n",
    "\n",
    "Examples\n",
    "is_prime(2)     #Output: True \n",
    "is_prime(11)  #Output: True  \n",
    "is_prime(15)  #Output: False  \n",
    "is_prime(1)  #Output:  False  \n",
    "is_prime(0) #Output:  False  \n",
    "Your Task\n",
    "Define a function called is_prime that takes one integer as input.\n",
    "Return True if the number is prime and False otherwise.\n",
    "Use a loop to check divisibility — don’t use any external libraries or built-in prime checkers.\n",
    "Concepts Tested\n",
    "Conditional logic\n",
    "Loops\n",
    "Modulo operator (%)\n",
    "Efficiency and edge case handling\n",
    "Stretch Ideas\n",
    "2. Improve performance by only looping up to the square root of the number\n",
    "3. Write a second function that returns all prime numbers up to a given number\n",
    "4. Accept user input and check multiple numbers in one run\n",
    "5. Save all prime results to a file\n",
    "Hints:\n",
    "Any number less than 2 is not prime.\n",
    "Use % to check for divisibility.\n",
    "If any number between 2 and n-1 divides evenly into n, it’s not prime."
   ]
  },
  {
   "cell_type": "code",
   "execution_count": null,
   "id": "1db5eb7f",
   "metadata": {},
   "outputs": [
    {
     "name": "stdout",
     "output_type": "stream",
     "text": [
      "True\n",
      "True\n",
      "False\n",
      "False\n",
      "False\n"
     ]
    }
   ],
   "source": [
    "# Write a function that checks whether a number is prime. A prime number is a number greater than 1 that has no divisors other than 1 and itself.\n",
    "def is_prime(num_check: int):\n",
    "    if num_check<2:\n",
    "        return False\n",
    "    else:\n",
    "        for i in range(2, num_check):\n",
    "            if num_check % i == 0:\n",
    "                return False  #If any number between 2 and n-1 divides evenly into n, it’s not prime.\n",
    "        return True\n",
    "\n",
    "print(is_prime(2))    #Output: True \n",
    "print(is_prime(11))  #Output: True  \n",
    "print(is_prime(15))  #Output: False  \n",
    "print(is_prime(1))  #Output:  False  \n",
    "print(is_prime(0)) #Output:  False  \n",
    "    "
   ]
  },
  {
   "cell_type": "code",
   "execution_count": null,
   "id": "4c950968",
   "metadata": {},
   "outputs": [
    {
     "name": "stdout",
     "output_type": "stream",
     "text": [
      "True\n",
      "True\n",
      "False\n",
      "False\n",
      "False\n",
      "True\n"
     ]
    }
   ],
   "source": [
    "#Improve performance by only looping up to the square root of the number\n",
    "import math\n",
    "def is_prime_sqrt(num_check: int):\n",
    "    if num_check<2:\n",
    "        return False\n",
    "    else:\n",
    "        #for i in range(2, math.sqrt(num_check) + 1):\n",
    "        for i in range(2, int(math.sqrt(num_check)) + 1): #looping up to the square root of the number\n",
    "            if num_check % i == 0:\n",
    "                return False  \n",
    "        return True\n",
    "\n",
    "print(is_prime_sqrt(2))    #Output: True \n",
    "print(is_prime_sqrt(11))  #Output: True  \n",
    "print(is_prime_sqrt(15))  #Output: False  \n",
    "print(is_prime_sqrt(1))  #Output:  False  \n",
    "print(is_prime_sqrt(0))\n",
    "print(is_prime_sqrt(3))#Output:  False  "
   ]
  },
  {
   "cell_type": "code",
   "execution_count": null,
   "id": "c22cd5e4",
   "metadata": {},
   "outputs": [
    {
     "name": "stdout",
     "output_type": "stream",
     "text": [
      "Prime numbers up to 11 are: [2, 3, 5, 7, 11]\n",
      "Prime numbers up to 45 are: [2, 3, 5, 7, 11, 13, 17, 19, 23, 29, 31, 37, 41, 43]\n"
     ]
    }
   ],
   "source": [
    "#Write a second function that returns all prime numbers up to a given number\n",
    "import math\n",
    "def prime_upto(num: int):\n",
    "    prime_num_list = []\n",
    "    non_prime_num_list = []\n",
    "\n",
    "    for num_check in range(2, num + 1):\n",
    "        is_prime_flag = True\n",
    "        for i in range(2, int(math.sqrt(num_check)) + 1): #looping up to the square root of the number\n",
    "            if num_check % i == 0:\n",
    "                is_prime_flag = False\n",
    "                break\n",
    "        if is_prime_flag ==True:\n",
    "            prime_num_list.append(num_check)\n",
    "        else:\n",
    "            non_prime_num_list.append(num_check)\n",
    "\n",
    "    return f\"Prime numbers up to {num} are: {prime_num_list}\"\n",
    "\n",
    "print(prime_upto(11))   \n",
    "print(prime_upto(45)) \n"
   ]
  },
  {
   "cell_type": "code",
   "execution_count": null,
   "id": "722c899c",
   "metadata": {},
   "outputs": [
    {
     "name": "stdout",
     "output_type": "stream",
     "text": [
      "[5, 890, 90]\n",
      "Prime numbers in the list [5, 890, 90] are : [5]\n"
     ]
    }
   ],
   "source": [
    "#Accept user input and check multiple numbers in one run\n",
    "import math\n",
    "def prime_test_numbers(num_list_primes: list):\n",
    "    prime_num_list = []\n",
    "    non_prime_num_list = []\n",
    "    #num_check = num_list_primes[0] \n",
    "    #print(len(num_list_primes))\n",
    "    for x in range(len(num_list_primes)):\n",
    "        num_check = num_list_primes[x]\n",
    "        #print(f\"Checking: {num_check}\")\n",
    "        #print(num_check)\n",
    "        if num_check<2:\n",
    "            non_prime_num_list.append(num_check)\n",
    "            #break\n",
    "        else:\n",
    "            is_prime_flag = True\n",
    "            for i in range(2, int(math.sqrt(num_check)) + 1): #looping up to the square root of the number\n",
    "                if num_check % i == 0:\n",
    "                    is_prime_flag = False\n",
    "                    break\n",
    "            if is_prime_flag ==True:\n",
    "                prime_num_list.append(num_check)\n",
    "            else:\n",
    "                non_prime_num_list.append(num_check)\n",
    "    return f\"Prime numbers in the list {num_list_primes} are : {prime_num_list}\"\n",
    "\n",
    "user_primes_test =[]\n",
    "user_input_list = input(\"Enter numbers(integers only) separated by commas: \")\n",
    "numbers_list = user_input_list.split(',') # Splits the string by commas\n",
    "user_primes_test = [int(n.strip()) for n in numbers_list] # Converts each string to int\n",
    "#print(user_primes_test)\n",
    "print(prime_test_numbers(user_primes_test))   "
   ]
  },
  {
   "cell_type": "code",
   "execution_count": null,
   "id": "c65c139d",
   "metadata": {},
   "outputs": [],
   "source": [
    "#5. Save all prime results to a file prime_file.txt\n",
    "with open('prime_file.txt', 'w') as file:\n",
    "    file.write(str(is_prime(2))+ '\\t') \n",
    "    file.write(str(is_prime(11))+ '\\t')\n",
    "    file.write(str(is_prime(15))+ '\\t')  \n",
    "    file.write(str(is_prime(1))+ '\\t')  \n",
    "    file.write(str(is_prime(0))+ '\\n')  \n",
    "    file.write(str(is_prime_sqrt(2))+ '\\t')\n",
    "    file.write(str(is_prime_sqrt(11))+ '\\t')\n",
    "    file.write(str(is_prime_sqrt(15))+ '\\t')\n",
    "    file.write(str(is_prime_sqrt(1))+ '\\t')\n",
    "    file.write(str(is_prime_sqrt(0))+ '\\t')\n",
    "    file.write(str(is_prime_sqrt(3))+ '\\n')\n",
    "    file.write(prime_upto(11)+ '\\n')\n",
    "    file.write(prime_upto(45)+ '\\n')\n",
    "    file.write(prime_test_numbers(user_primes_test)+ '\\n')\n",
    "    file.write('Goodbye!\\n')\n",
    "    file.close()"
   ]
  }
 ],
 "metadata": {
  "kernelspec": {
   "display_name": "Python 3",
   "language": "python",
   "name": "python3"
  },
  "language_info": {
   "codemirror_mode": {
    "name": "ipython",
    "version": 3
   },
   "file_extension": ".py",
   "mimetype": "text/x-python",
   "name": "python",
   "nbconvert_exporter": "python",
   "pygments_lexer": "ipython3",
   "version": "3.12.10"
  }
 },
 "nbformat": 4,
 "nbformat_minor": 5
}
