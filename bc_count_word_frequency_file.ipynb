{
 "cells": [
  {
   "cell_type": "markdown",
   "id": "f0a53c66",
   "metadata": {},
   "source": [
    "Challenge: Count Word Frequency in a Text File\n",
    "Problem\n",
    "Write a function that reads a .txt file and counts how many times each word appears. Return a dictionary where the keys are words and the values are the number of times they appear.\n",
    "\n",
    "Example\n",
    "Given a file with:\n",
    "\n",
    "\"The cat and the hat.\"\n",
    "\n",
    "Your output might be:\n",
    "\n",
    "{'the': 2, 'cat': 1, 'and': 1, 'hat': 1}\n",
    "Your Task\n",
    "1. Open and read a .txt file (you can create a small practice file if needed)\n",
    "2. Normalize the text (e.g., lowercase, remove punctuation)\n",
    "3. Split the text into words\n",
    "4. Use a dictionary to count word frequencies\n",
    "5. Return or print the dictionary\n",
    "Concepts Tested\n",
    "1. File reading\n",
    "2. String cleanup\n",
    "3. Dictionaries and loops\n",
    "4. Stretch Ideas\n",
    "5. Sort the output by most frequent words\n",
    "6. Ignore very common stop words like “the,” “and,” etc.\n",
    "7. Save the results to a new file"
   ]
  }
 ],
 "metadata": {
  "language_info": {
   "name": "python"
  }
 },
 "nbformat": 4,
 "nbformat_minor": 5
}
