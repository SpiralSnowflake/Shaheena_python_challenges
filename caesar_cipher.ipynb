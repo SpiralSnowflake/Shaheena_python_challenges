{
 "cells": [
  {
   "cell_type": "markdown",
   "id": "3c220ccb",
   "metadata": {},
   "source": [
    "Caesar Cipher\n",
    "Challenge: Caesar Cipher Encoder\n",
    "Problem\n",
    "1. A Caesar cipher is a simple encryption technique where each letter in a message is shifted a fixed number of places down the alphabet. For example, shifting \"a\" by 3 gives you \"d\".\n",
    "\n",
    "Write a function that takes a string and a shift value and returns the encoded message using the Caesar cipher.\n",
    "\n",
    "Examples\n",
    "caesar_cipher(\"abc\", 3) #Output:  \"def\"  \n",
    "caesar_cipher(\"xyz\", 2) #Output:  \"zab\"  \n",
    "caesar_cipher(\"Hello, World!\", 5) #Output:  \"Mjqqt, Btwqi!\"\n",
    "Your Task\n",
    "Define a function called caesar_cipher that accepts:\n",
    "a string text\n",
    "an integer shift\n",
    "Return a new string with each alphabetical character shifted by the shift amount.\n",
    "Keep the case (uppercase/lowercase) the same.\n",
    "Do not change non-letter characters like punctuation, spaces, or numbers.\n",
    "Concepts Tested\n",
    "String manipulation\n",
    "Character encoding with ord() and chr()\n",
    "Modulo math for wrapping the alphabet\n",
    "Control flow and logic\n",
    "Stretch Ideas\n",
    "2. Add a second function to decode messages by shifting in the opposite direction\n",
    "3. Allow the user to input text and shift value\n",
    "4. Handle very large or negative shift values\n",
    "5. Save the encoded message to a file\n",
    "Hints:\n",
    "Use ord() to get the Unicode value of a character.\n",
    "Use chr() to convert back to a character.\n",
    "Wrap around the alphabet using % 26 when needed.\n",
    "Make sure to handle both uppercase and lowercase letters correctly."
   ]
  },
  {
   "cell_type": "code",
   "execution_count": null,
   "id": "96139eb7",
   "metadata": {},
   "outputs": [
    {
     "name": "stdout",
     "output_type": "stream",
     "text": [
      "The Encoded message for abc with shift value 3 is : def\n",
      "The Encoded message for xyz with shift value 2 is : zab\n",
      "The Encoded message for Hello, World! with shift value 5 is : Mjqqt, Btwqi!\n",
      "The Encoded message for def with shift value 3 is : ghi\n",
      "The Encoded message for zab with shift value 2 is : bcd\n",
      "The Encoded message for Mjqqt, Btwqi! with shift value 5 is : Rovvy, Gybvn!\n"
     ]
    }
   ],
   "source": [
    "#Write a function that takes a string and a shift value and returns the encoded message using the Caesar cipher.\n",
    "# positive shift using the modulo operation \"c \"encoded character = (x actual character + n shift_value) % 26  \n",
    "#ord(\"c\")- character to its Unicode  chr(65)- Unicode to actual character\n",
    "import math \n",
    "def caesar_cipher(text: str,shift_value: int):\n",
    "    encoded_text = \"\"\n",
    "    shift_valueed=0\n",
    "    for i in text:\n",
    "        # print(i,shift_value)\n",
    "        # print(ord(i))\n",
    "        if  ord(i)>=ord(\"A\") and  ord(i) <=ord(\"Z\"):\n",
    "            position_char_alpha = ord(i) - ord(\"A\")\n",
    "            #print(f\"position: {position_char_alpha}\")\n",
    "            shifted_value = (position_char_alpha + shift_value) % 26\n",
    "            ##print(f\"shift_value:  {shift_value1}\")\n",
    "            encoded_char = chr(shifted_value + ord(\"A\"))\n",
    "            #print(f\"encoded_char: {encoded_char}\")\n",
    "            \n",
    "        elif  ord(i)>=ord('a') and  ord(i) <=ord(\"z\"): \n",
    "            position_char_alpha = ord(i) - ord('a')\n",
    "            #print(f\"position: {position_char_alpha}\")\n",
    "            shifted_value = (position_char_alpha + shift_value) % 26\n",
    "            #print(f\"shift_value: {shift_value1}\")\n",
    "            encoded_char = chr(shifted_value + ord('a'))\n",
    "            #print(f\"encoded_char: {encoded_char}\")\n",
    "\n",
    "        else :\n",
    "            encoded_char = i\n",
    "        encoded_text += encoded_char\n",
    "    return f\"The Encoded message for {text} with shift value {shift_value} is : {encoded_text}\"\n",
    "\n",
    "print(caesar_cipher(\"abc\", 3)) #Output:  \"def\"  \n",
    "print(caesar_cipher(\"xyz\", 2))#Output:  \"zab\"  \n",
    "print(caesar_cipher(\"Hello, World!\", 5)) #Output:  \"Mjqqt, Btwqi!\""
   ]
  },
  {
   "cell_type": "code",
   "execution_count": 4,
   "id": "7f128569",
   "metadata": {},
   "outputs": [
    {
     "name": "stdout",
     "output_type": "stream",
     "text": [
      "The Decoded message for def with shift value 3 is : abc\n",
      "The Decoded message for zab with shift value 2 is : xyz\n",
      "The Decoded message for Mjqqt, Btwqi! with shift value 5 is : Hello, World!\n"
     ]
    }
   ],
   "source": [
    "#2. Add a second function to decode messages by shifting in the opposite direction\n",
    "import math \n",
    "def caesar_cipher_decode(text,shift_value):\n",
    "    encoded_text = \"\"\n",
    "    shift_valueed=0\n",
    "    for i in text:\n",
    "        # print(i,shift_value)\n",
    "        # print(ord(i))\n",
    "        \n",
    "        if  ord(i)>=ord(\"A\") and  ord(i) <=ord(\"Z\"):\n",
    "            position_char_alpha = ord(i) - ord(\"A\")\n",
    "            #print(f\"position: {position_char_alpha}\")\n",
    "            shifted_value = (position_char_alpha - shift_value) % 26\n",
    "            ##print(f\"shift_value:  {shift_value1}\")\n",
    "            encoded_char = chr(shifted_value + ord(\"A\"))\n",
    "            #print(f\"encoded_char: {encoded_char}\")\n",
    "            \n",
    "        elif  ord(i)>=ord('a') and  ord(i) <=ord(\"z\"): \n",
    "            position_char_alpha = ord(i) - ord('a')\n",
    "            #print(f\"position: {position_char_alpha}\")\n",
    "            shifted_value = (position_char_alpha - shift_value) % 26\n",
    "            #print(f\"shift_value: {shift_value1}\")\n",
    "            encoded_char = chr(shifted_value + ord('a'))\n",
    "            #print(f\"encoded_char: {encoded_char}\")\n",
    "\n",
    "        else :\n",
    "            encoded_char = i\n",
    "        encoded_text += encoded_char\n",
    "    return f\"The Decoded message for {text} with shift value {shift_value} is : {encoded_text}\"\n",
    "\n",
    "#print(caesar_cipher(\"abc\", 3)) #Output:  \"def\"  \n",
    "#print(caesar_cipher(\"xyz\", 2))#Output:  \"zab\"  \n",
    "#print(caesar_cipher(\"Hello, World!\", 5)) #Output:  \"Mjqqt, Btwqi!\"\n",
    "print(caesar_cipher_decode(\"def\", 3)) #Output:  \"def\"  \n",
    "print(caesar_cipher_decode(\"zab\", 2))#Output:  \"zab\"  \n",
    "print(caesar_cipher_decode(\"Mjqqt, Btwqi!\", 5)) #Output:  \"Mjqqt, Btwqi!\""
   ]
  },
  {
   "cell_type": "code",
   "execution_count": null,
   "id": "0458661e",
   "metadata": {},
   "outputs": [
    {
     "name": "stdout",
     "output_type": "stream",
     "text": [
      "The Encoded message for hi? How? are? with shift value 3 is : kl? Krz? duh?\n"
     ]
    }
   ],
   "source": [
    "#3.Allow the user to input text and shift value\n",
    "import math \n",
    "def caesar_cipher_user_input(text: str,shift_value: int):\n",
    "    encoded_text = \"\"\n",
    "    shift_valueed=0\n",
    "    for i in text:\n",
    "        # print(i,shift_value)\n",
    "        # print(ord(i))\n",
    "        \n",
    "        if  ord(i)>=ord(\"A\") and  ord(i) <=ord(\"Z\"):\n",
    "            position_char_alpha = ord(i) - ord(\"A\")\n",
    "            #print(f\"position: {position_char_alpha}\")\n",
    "            shifted_value = (position_char_alpha + shift_value) % 26\n",
    "            ##print(f\"shift_value:  {shift_value1}\")\n",
    "            encoded_char = chr(shifted_value + ord(\"A\"))\n",
    "            #print(f\"encoded_char: {encoded_char}\")\n",
    "            \n",
    "        elif  ord(i)>=ord('a') and  ord(i) <=ord(\"z\"): \n",
    "            position_char_alpha = ord(i) - ord('a')\n",
    "            #print(f\"position: {position_char_alpha}\")\n",
    "            shifted_value = (position_char_alpha + shift_value) % 26\n",
    "            #print(f\"shift_value: {shift_value1}\")\n",
    "            encoded_char = chr(shifted_value + ord('a'))\n",
    "            #print(f\"encoded_char: {encoded_char}\")\n",
    "\n",
    "        else :\n",
    "            encoded_char = i\n",
    "        encoded_text += encoded_char\n",
    "    return f\"The Encoded message for {text} with shift value {shift_value} is : {encoded_text}\"\n",
    "\n",
    "user_input = input(\"Enter text to Encode using Caesar Cipher Encoding : \")\n",
    "user_shift_value = int(input(\"Enter a shift value(1-25) :\"))\n",
    "\n",
    "print(caesar_cipher_user_input(user_input,user_shift_value))\n",
    "# print(caesar_cipher(\"abc\", 3)) #Output:  \"def\"  \n",
    "# print(caesar_cipher(\"xyz\", 2))#Output:  \"zab\"  \n",
    "# print(caesar_cipher(\"Hello, World!\", 5)) #Output:  \"Mjqqt, Btwqi!\""
   ]
  },
  {
   "cell_type": "code",
   "execution_count": 47,
   "id": "22a26010",
   "metadata": {},
   "outputs": [
    {
     "name": "stdout",
     "output_type": "stream",
     "text": [
      "The Encoded message for aeiouaeiouaeiouaeiouaeiouaeiouaeiouaeiouaeiouaeiouaeiouaeiouaeiouaeiouaeiouaeiouaeiouaeiouaeiouaeiouaeiouaeiouaeiouaeiouaeiouaeiouaeiouaeiouaeiouaeiouaeiouaeiouaeiouaeiouaeiouaeiouaeiouaeiouaeiouaeiouaeiouaeiouaeiouaeiouaeiouaeiouaeiouaeiouaeiouaeiouaeiouaeiouaeiouaeiouaeiouaeiouaeiouaeiouaeiouaeiouaeiouaeiouaeiouaeiouaeiouaeiouaeiouaeiouaeiouaeiouaeiouaeiouaeiouaeiouaeiouaeiouaeiouaeiouaeiouaeiouaeiouaeiouaeiouaeiouaeiouaeiouaeiouaeiouaeiouaeiouaeiouaeiouaeiouaeiouaeiouaeiouaeiouaeiouaeiouaeiouaeiouaeiouaeiouaeiouaeiouaeiouaeiouaeiouaeiouaeiouaeiouaeiouaeiouaeiouaeiouaeiouaeiouaeiouaeiouaeiouaeiouaeiouaeiouaeiouaeiouaeiouaeiouaeiouaeiouaeiouaeiouaeiouaeiouaeiouaeiouaeiouaeiouaeiouaeiouaeiouaeiouaeiouaeiouaeiouaeiouaeiouaeiouaeiouaeiouaeiouaeiouaeiouaeiouaeiouaeiouaeiouaeiouaeiouaeiouaeiouaeiouaeiouaeiouaeiouaeiouaeiouaeiouaeiouaeiouaeiouaeiouaeiouaeiouaeiouaeiouaeiouaeiouaeiouaeiouaeiouaeiouaeiouaeiouaeiouaeiouaeiouaeiouaeiouaeiouaeiouaeiouaeiouaeiouaeiouaeiouaeiouaeiouaeiouaeiouaeiouaeiouaeiouaeiouaeiouaeiouaeiouaeiouaeiouaeiouaeiouaeiouaeiouaeiouaeiouaeiouaeiouaeiouaeiouaeiouaeiouaeiouaeiouaeiouaeiouaeiouaeiouaeiouaeiouaeiouaeiouaeiouaeiouaeiouaeiouaeiouaeiouaeiouaeiouaeiouaeiouaeiouaeiouaeiouaeiouaeiouaeiouaeiouaeiouaeiouaeiouaeiouaeiouaeiouaeiouaeiouaeiouaeiouaeiouaeiouaeiouaeiouaeiouaeiouaeiouaeiouaeiouaeiouaeiouaeiouaeiouaeiouaeiouaeiouaeiouaeiouaeiouaeiouaeiouaeiouaeiouaeiouaeiouaeiouaeiouaeiouaeiouaeiouaeiouaeiouaeiouaeiouaeiouaeiouaeiouaeiouaeiouaeiouaeiouaeiouaeiouaeiouaeiouaeiouaeiouaeiouaeiouaeiouaeiouaeiouaeiouaeiouaeiouaeiouaeiouaeiouaeiouaeiouaeiouaeiouaeiouaeiouaeiouaeiouaeiouaeiouaeiouaeiouaeiouaeiouaeiouaeiouaeiouaeiouaeiouaeiouaeiouaeiouaeiouaeiouaeiouaeiouaeiouaeiouaeiouaeiouaeiouaeiouaeiouaeiouaeiouaeiouaeiouaeiouaeiouaeiouaeiouaeiouaeiouaeiouaeiouaeiouaeiouaeiouaeiouaeiouaeiouaeiouaeiouaeiouaeiouaeiouaeiouaeiouaeiouaeiouaeiouaeiouaeiouaeiouaeiouaeiouaeiouaeiouaeiouaeiouaeiouaeiouaeiouaeiouaeiouaeiouaeiouaeiouaeiouaeiouaeiouaeiouaeiouaeiouaeiouaeiouaeiouaeiouaeiouaeiouaeiouaeiouaeiouaeiouaeiouaeiouaeiouaeiouaeiouaeiouaeiouaeiouaeiouaeiouaeiouaeiouaeiouaeiouaeiouaeiouaeiouaeiouaeiouaeiouaeiouaeiouaeiouaeiouaeiouaeiouaeiouaeiouaeiouaeiouaeiouaeiouaeiouaeiouaeiouaeiouaeiouaeiouaeiouaeiouaeiouaeiouaeiouaeiouaeiouaeiouaeiouaeiouaeiouaeiouaeiouaeiouaeiouaeiouaeiouaeiouaeiouaeiouaeiouaeiouaeiouaeiouaeiouaeiouaeiouaeiouaeiouaeiouaeiouaeiouaeiouaeiouaeiouaeiouaeiouaeiouaeiouaeiouaeiouaeiouaeiouaeiouaeiouaeiouaeiouaeiouaeiouaeiouaeiouaeiouaeiouaeiouaeiouaeiouaeiouaeiouaeiouaeiouaeiouaeiouaeiouaeiouaeiouaeiouaeiouaeiouaeiouaeiouaeiouaeiouaeiouaeiouaeiouaeiouaeiouaeiouaeiouaeiouaeiouaeiouaeiouaeiouaeiouaeiouaeiouaeiouaeiouaeiouaeiouaeiouaeiouaeiouaeiouaeiouaeiouaeiouaeiouaeiouaeiouaeiouaeiouaeiouaeiouaeiouaeiouaeiouaeiouaeiouaeiouaeiouaeiouaeiouaeiouaeiouaeiouaeiouaeiouaeiouaeiouaeiouaeiouaeiouaeiouaeiouaeiouaeiouaeiouaeiouaeiouaeiouaeiouaeiouaeiouaeiouaeiouaeiouaeiouaeiouaeiouaeiouaeiouaeiouaeiouaeiouaeiouaeiouaeiouaeiouaeiouaeiouaeiouaeiouaeiouaeiouaeiouaeiouaeiouaeiouaeiouaeiouaeiouaeiouaeiouaeiouaeiouaeiouaeiouaeiouaeiouaeiouaeiouaeiouaeiouaeiouaeiouaeiouaeiouaeiouaeiouaeiouaeiouaeiouaeiouaeiouaeiouaeiouaeiouaeiouaeiouaeiouaeiouaeiouaeiouaeiouaeiouaeiouaeiouaeiouaeiouaeiouaeiouaeiouaeiouaeiouaeiouaeiouaeiouaeiouaeiouaeiouaeiouaeiouaeiouaeiouaeiouaeiouaeiouaeiouaeiouaeiouaeiouaeiouaeiouaeiouaeiouaeiouaeiouaeiouaeiouaeiouaeiouaeiouaeiouaeiouaeiouaeiouaeiouaeiouaeiouaeiouaeiouaeiouaeiouaeiouaeiouaeiouaeiouaeiouaeiouaeiouaeiouaeiouaeiouaeiouaeiouaeiouaeiouaeiouaeiouaeiouaeiouaeiouaeiouaeiouaeiouaeiouaeiouaeiouaeiouaeiouaeiouaeiouaeiouaeiouaeiouaeiouaeiouaeiouaeiouaeiouaeiouaeiouaeiouaeiouaeiouaeiouaeiouaeiouaeiouaeiouaeiouaeiouaeiouaeiouaeiouaeiouaeiouaeiouaeiouaeiouaeiouaeiouaeiouaeiouaeiouaeiouaeiouaeiouaeiouaeiouaeiouaeiouaeiouaeiouaeiouaeiouaeiouaeiouaeiouaeiouaeiouaeiouaeiouaeiouaeiouaeiouaeiouaeiouaeiouaeiouaeiouaeiouaeiouaeiouaeiouaeiouaeiouaeiouaeiouaeiouaeiouaeiouaeiouaeiouaeiouaeiouaeiouaeiouaeiouaeiouaeiouaeiouaeiouaeiouaeiouaeiouaeiouaeiouaeiouaeiouaeiouaeiouaeiouaeiouaeiouaeiouaeiouaeiouaeiouaeiouaeiouaeiouaeiouaeiouaeiouaeiouaeiouaeiouaeiouaeiouaeiouaeiouaeiouaeiouaeiouaeiouaeiouaeiouaeiouaeiouaeiouaeiouaeiouaeiouaeiouaeiouaeiouaeiouaeiouaeiouaeiouaeiouaeiouaeiouaeiouaeiouaeiouaeiouaeiouaeiouaeiouaeiouaeiouaeiouaeiouaeiouaeiouaeiouaeiouaeiouaeiouaeiouaeiouaeiouaeiouaeiouaeiouaeiouaeiouaeiouaeiouaeiouaeiouaeiouaeiouaeiouaeiouaeiouaeiouaeiouaeiouaeiouaeiouaeiouaeiouaeiouaeiouaeiouaeiouaeiouaeiouaeiouaeiouaeiouaeiouaeiouaeiouaeiouaeiouaeiouaeiouaeiouaeiouaeiouaeiouaeiouaeiouaeiouaeiouaeiouaeiouaeiouaeiouaeiouaeiouaeiouaeiouaeiouaeiouaeiouaeiouaeiouaeiouaeiouaeiouaeiouaeiouaeiouaeiouaeiouaeiouaeiouaeiouaeiouaeiouaeiouaeiouaeiouaeiouaeiouaeiouaeiouaeiouaeiouaeiouaeiouaeiouaeiouaeiouaeiouaeiouaeiouaeiouaeiouaeiouaeiouaeiouaeiouaeiouaeiouaeiouaeiouaeiouaeiouaeiouaeiouaeiouaeiouaeiouaeiouaeiouaeiouaeiouaeiouaeiouaeiouaeiouaeiouaeiouaeiouaeiouaeiouaeiouaeiouaeiouaeiouaeiouaeiouaeiouaeiouaeiou with shift value -1000 is : oswcioswcioswcioswcioswcioswcioswcioswcioswcioswcioswcioswcioswcioswcioswcioswcioswcioswcioswcioswcioswcioswcioswcioswcioswcioswcioswcioswcioswcioswcioswcioswcioswcioswcioswcioswcioswcioswcioswcioswcioswcioswcioswcioswcioswcioswcioswcioswcioswcioswcioswcioswcioswcioswcioswcioswcioswcioswcioswcioswcioswcioswcioswcioswcioswcioswcioswcioswcioswcioswcioswcioswcioswcioswcioswcioswcioswcioswcioswcioswcioswcioswcioswcioswcioswcioswcioswcioswcioswcioswcioswcioswcioswcioswcioswcioswcioswcioswcioswcioswcioswcioswcioswcioswcioswcioswcioswcioswcioswcioswcioswcioswcioswcioswcioswcioswcioswcioswcioswcioswcioswcioswcioswcioswcioswcioswcioswcioswcioswcioswcioswcioswcioswcioswcioswcioswcioswcioswcioswcioswcioswcioswcioswcioswcioswcioswcioswcioswcioswcioswcioswcioswcioswcioswcioswcioswcioswcioswcioswcioswcioswcioswcioswcioswcioswcioswcioswcioswcioswcioswcioswcioswcioswcioswcioswcioswcioswcioswcioswcioswcioswcioswcioswcioswcioswcioswcioswcioswcioswcioswcioswcioswcioswcioswcioswcioswcioswcioswcioswcioswcioswcioswcioswcioswcioswcioswcioswcioswcioswcioswcioswcioswcioswcioswcioswcioswcioswcioswcioswcioswcioswcioswcioswcioswcioswcioswcioswcioswcioswcioswcioswcioswcioswcioswcioswcioswcioswcioswcioswcioswcioswcioswcioswcioswcioswcioswcioswcioswcioswcioswcioswcioswcioswcioswcioswcioswcioswcioswcioswcioswcioswcioswcioswcioswcioswcioswcioswcioswcioswcioswcioswcioswcioswcioswcioswcioswcioswcioswcioswcioswcioswcioswcioswcioswcioswcioswcioswcioswcioswcioswcioswcioswcioswcioswcioswcioswcioswcioswcioswcioswcioswcioswcioswcioswcioswcioswcioswcioswcioswcioswcioswcioswcioswcioswcioswcioswcioswcioswcioswcioswcioswcioswcioswcioswcioswcioswcioswcioswcioswcioswcioswcioswcioswcioswcioswcioswcioswcioswcioswcioswcioswcioswcioswcioswcioswcioswcioswcioswcioswcioswcioswcioswcioswcioswcioswcioswcioswcioswcioswcioswcioswcioswcioswcioswcioswcioswcioswcioswcioswcioswcioswcioswcioswcioswcioswcioswcioswcioswcioswcioswcioswcioswcioswcioswcioswcioswcioswcioswcioswcioswcioswcioswcioswcioswcioswcioswcioswcioswcioswcioswcioswcioswcioswcioswcioswcioswcioswcioswcioswcioswcioswcioswcioswcioswcioswcioswcioswcioswcioswcioswcioswcioswcioswcioswcioswcioswcioswcioswcioswcioswcioswcioswcioswcioswcioswcioswcioswcioswcioswcioswcioswcioswcioswcioswcioswcioswcioswcioswcioswcioswcioswcioswcioswcioswcioswcioswcioswcioswcioswcioswcioswcioswcioswcioswcioswcioswcioswcioswcioswcioswcioswcioswcioswcioswcioswcioswcioswcioswcioswcioswcioswcioswcioswcioswcioswcioswcioswcioswcioswcioswcioswcioswcioswcioswcioswcioswcioswcioswcioswcioswcioswcioswcioswcioswcioswcioswcioswcioswcioswcioswcioswcioswcioswcioswcioswcioswcioswcioswcioswcioswcioswcioswcioswcioswcioswcioswcioswcioswcioswcioswcioswcioswcioswcioswcioswcioswcioswcioswcioswcioswcioswcioswcioswcioswcioswcioswcioswcioswcioswcioswcioswcioswcioswcioswcioswcioswcioswcioswcioswcioswcioswcioswcioswcioswcioswcioswcioswcioswcioswcioswcioswcioswcioswcioswcioswcioswcioswcioswcioswcioswcioswcioswcioswcioswcioswcioswcioswcioswcioswcioswcioswcioswcioswcioswcioswcioswcioswcioswcioswcioswcioswcioswcioswcioswcioswcioswcioswcioswcioswcioswcioswcioswcioswcioswcioswcioswcioswcioswcioswcioswcioswcioswcioswcioswcioswcioswcioswcioswcioswcioswcioswcioswcioswcioswcioswcioswcioswcioswcioswcioswcioswcioswcioswcioswcioswcioswcioswcioswcioswcioswcioswcioswcioswcioswcioswcioswcioswcioswcioswcioswcioswcioswcioswcioswcioswcioswcioswcioswcioswcioswcioswcioswcioswcioswcioswcioswcioswcioswcioswcioswcioswcioswcioswcioswcioswcioswcioswcioswcioswcioswcioswcioswcioswcioswcioswcioswcioswcioswcioswcioswcioswcioswcioswcioswcioswcioswcioswcioswcioswcioswcioswcioswcioswcioswcioswcioswcioswcioswcioswcioswcioswcioswcioswcioswcioswcioswcioswcioswcioswcioswcioswcioswcioswcioswcioswcioswcioswcioswcioswcioswcioswcioswcioswcioswcioswcioswcioswcioswcioswcioswcioswcioswcioswcioswcioswcioswcioswcioswcioswcioswcioswcioswcioswcioswcioswcioswcioswcioswcioswcioswcioswcioswcioswcioswcioswcioswcioswcioswcioswcioswcioswcioswcioswcioswcioswcioswcioswcioswcioswcioswcioswcioswcioswcioswcioswcioswcioswcioswcioswcioswcioswcioswcioswcioswcioswcioswcioswcioswcioswcioswcioswcioswcioswcioswcioswcioswcioswcioswcioswcioswcioswcioswcioswcioswcioswcioswcioswcioswcioswcioswcioswcioswcioswcioswcioswcioswcioswcioswcioswcioswcioswcioswcioswcioswcioswcioswcioswcioswcioswcioswcioswcioswcioswcioswcioswcioswcioswcioswcioswcioswcioswcioswcioswcioswcioswcioswcioswcioswcioswcioswcioswcioswcioswcioswcioswcioswcioswcioswcioswcioswcioswcioswcioswcioswcioswcioswcioswcioswcioswcioswcioswcioswcioswcioswcioswcioswcioswcioswcioswcioswcioswcioswcioswcioswcioswcioswcioswcioswcioswcioswcioswcioswcioswcioswcioswcioswcioswcioswcioswcioswcioswcioswcioswcioswcioswcioswcioswcioswcioswcioswcioswcioswcioswcioswcioswcioswcioswcioswcioswcioswcioswcioswcioswcioswcioswcioswcioswcioswcioswcioswcioswcioswcioswcioswcioswcioswcioswcioswcioswcioswcioswcioswcioswcioswcioswcioswcioswcioswcioswcioswcioswcioswcioswcioswcioswcioswcioswcioswcioswcioswcioswcioswcioswcioswcioswcioswcioswcioswcioswcioswcioswcioswcioswcioswcioswcioswcioswcioswcioswcioswci\n"
     ]
    }
   ],
   "source": [
    "#Handle very large or negative shift values\n",
    "import math \n",
    "def caesar_cipher_user_input(text,shift_value):\n",
    "    encoded_text = \"\"\n",
    "    shift_valueed=0\n",
    "    for i in text:\n",
    "        # print(i,shift_value)\n",
    "        # print(ord(i))\n",
    "        \n",
    "        if  ord(i)>=ord(\"A\") and  ord(i) <=ord(\"Z\"):\n",
    "            position_char_alpha = ord(i) - ord(\"A\")\n",
    "            #print(f\"position: {position_char_alpha}\")\n",
    "            shifted_value = (position_char_alpha + shift_value) % 26\n",
    "            ##print(f\"shift_value:  {shift_value1}\")\n",
    "            encoded_char = chr(shifted_value + ord(\"A\"))\n",
    "            #print(f\"encoded_char: {encoded_char}\")\n",
    "            \n",
    "        elif  ord(i)>=ord('a') and  ord(i) <=ord(\"z\"): \n",
    "            position_char_alpha = ord(i) - ord('a')\n",
    "            #print(f\"position: {position_char_alpha}\")\n",
    "            shifted_value = (position_char_alpha + shift_value) % 26\n",
    "            #print(f\"shift_value: {shift_value1}\")\n",
    "            encoded_char = chr(shifted_value + ord('a'))\n",
    "            #print(f\"encoded_char: {encoded_char}\")\n",
    "\n",
    "        else :\n",
    "            encoded_char = i\n",
    "        encoded_text += encoded_char\n",
    "    return f\"The Encoded message for {text} with shift value {shift_value} is : {encoded_text}\"\n",
    "\n",
    "# user_input = input(\"Enter text to Encode using Caesar Cipher Encoding : \")\n",
    "# user_shift_value = int(input(\"Enter a shift value(1-25) :\"))\n",
    "user_input = 'aeiou' * 1000\n",
    "user_shift_value = -1000\n",
    "print(caesar_cipher_user_input(user_input,user_shift_value))\n",
    "# print(caesar_cipher(\"abc\", 3)) #Output:  \"def\"  \n",
    "# print(caesar_cipher(\"xyz\", 2))#Output:  \"zab\"  \n",
    "# print(caesar_cipher(\"Hello, World!\", 5)) #Output:  \"Mjqqt, Btwqi!\"\n",
    "\n",
    "#abcdefghijklmnopqrstuvwxyz??ABCDEFGHIJKLMNOPQRSTUVWXYZ?? 3\n",
    "#defghijklmnopqrstuvwxyzabc??DEFGHIJKLMNOPQRSTUVWXYZABC??"
   ]
  },
  {
   "cell_type": "code",
   "execution_count": null,
   "id": "96bf9f24",
   "metadata": {},
   "outputs": [],
   "source": [
    "#5. Save the encoded message to a file\n",
    "with open('caesar_cipher_file.txt', 'w') as file:\n",
    "    file.write(caesar_cipher(\"abc\", 3)+ '\\n') \n",
    "    file.write(caesar_cipher(\"xyz\", 2)+ '\\n')\n",
    "    file.write(caesar_cipher(\"Hello, World!\", 5)+ '\\n')  \n",
    "    file.write(caesar_cipher_decode(\"abc\", 3)+ '\\n')  \n",
    "    file.write(caesar_cipher_decode(\"xyz\", 2)+ '\\n')  \n",
    "    file.write(caesar_cipher_decode(\"Hello, World!\", 5)+ '\\n')\n",
    "    file.write(caesar_cipher_user_input(user_input,user_shift_value)+ '\\n')  \n",
    "    file.write('Goodbye!\\n')\n",
    "    file.close()"
   ]
  }
 ],
 "metadata": {
  "kernelspec": {
   "display_name": "Python 3",
   "language": "python",
   "name": "python3"
  },
  "language_info": {
   "codemirror_mode": {
    "name": "ipython",
    "version": 3
   },
   "file_extension": ".py",
   "mimetype": "text/x-python",
   "name": "python",
   "nbconvert_exporter": "python",
   "pygments_lexer": "ipython3",
   "version": "3.12.10"
  }
 },
 "nbformat": 4,
 "nbformat_minor": 5
}
